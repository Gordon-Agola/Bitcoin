{
 "cells": [
  {
   "cell_type": "code",
   "execution_count": 1,
   "id": "754935f5",
   "metadata": {},
   "outputs": [],
   "source": [
    "import pandas as pd\n",
    "import numpy as np\n",
    "import seaborn as sns\n",
    "import matplotlib.pyplot as plt\n",
    "import warnings\n",
    "warnings.filterwarnings('ignore')"
   ]
  },
  {
   "cell_type": "code",
   "execution_count": 27,
   "id": "0ff7143a",
   "metadata": {},
   "outputs": [],
   "source": [
    "df = pd.read_csv('bitcoin.csv')"
   ]
  },
  {
   "cell_type": "markdown",
   "id": "1ec65303",
   "metadata": {},
   "source": [
    "### EDA"
   ]
  },
  {
   "cell_type": "code",
   "execution_count": 28,
   "id": "48b612a5",
   "metadata": {},
   "outputs": [
    {
     "data": {
      "text/html": [
       "<div>\n",
       "<style scoped>\n",
       "    .dataframe tbody tr th:only-of-type {\n",
       "        vertical-align: middle;\n",
       "    }\n",
       "\n",
       "    .dataframe tbody tr th {\n",
       "        vertical-align: top;\n",
       "    }\n",
       "\n",
       "    .dataframe thead th {\n",
       "        text-align: right;\n",
       "    }\n",
       "</style>\n",
       "<table border=\"1\" class=\"dataframe\">\n",
       "  <thead>\n",
       "    <tr style=\"text-align: right;\">\n",
       "      <th></th>\n",
       "      <th>Date</th>\n",
       "      <th>Open</th>\n",
       "      <th>High</th>\n",
       "      <th>Low</th>\n",
       "      <th>Close</th>\n",
       "      <th>Adj Close</th>\n",
       "      <th>Volume</th>\n",
       "    </tr>\n",
       "  </thead>\n",
       "  <tbody>\n",
       "    <tr>\n",
       "      <th>0</th>\n",
       "      <td>2021-04-22</td>\n",
       "      <td>53857.105469</td>\n",
       "      <td>55410.230469</td>\n",
       "      <td>50583.812500</td>\n",
       "      <td>51762.273438</td>\n",
       "      <td>51762.273438</td>\n",
       "      <td>74798630778</td>\n",
       "    </tr>\n",
       "    <tr>\n",
       "      <th>1</th>\n",
       "      <td>2021-04-23</td>\n",
       "      <td>51739.808594</td>\n",
       "      <td>52120.792969</td>\n",
       "      <td>47714.664063</td>\n",
       "      <td>51093.652344</td>\n",
       "      <td>51093.652344</td>\n",
       "      <td>86668667320</td>\n",
       "    </tr>\n",
       "    <tr>\n",
       "      <th>2</th>\n",
       "      <td>2021-04-24</td>\n",
       "      <td>51143.226563</td>\n",
       "      <td>51167.562500</td>\n",
       "      <td>48805.285156</td>\n",
       "      <td>50050.867188</td>\n",
       "      <td>50050.867188</td>\n",
       "      <td>49014494781</td>\n",
       "    </tr>\n",
       "    <tr>\n",
       "      <th>3</th>\n",
       "      <td>2021-04-25</td>\n",
       "      <td>50052.832031</td>\n",
       "      <td>50506.019531</td>\n",
       "      <td>47159.484375</td>\n",
       "      <td>49004.253906</td>\n",
       "      <td>49004.253906</td>\n",
       "      <td>46117114240</td>\n",
       "    </tr>\n",
       "    <tr>\n",
       "      <th>4</th>\n",
       "      <td>2021-04-26</td>\n",
       "      <td>49077.792969</td>\n",
       "      <td>54288.003906</td>\n",
       "      <td>48852.796875</td>\n",
       "      <td>54021.753906</td>\n",
       "      <td>54021.753906</td>\n",
       "      <td>58284039825</td>\n",
       "    </tr>\n",
       "  </tbody>\n",
       "</table>\n",
       "</div>"
      ],
      "text/plain": [
       "         Date          Open          High           Low         Close  \\\n",
       "0  2021-04-22  53857.105469  55410.230469  50583.812500  51762.273438   \n",
       "1  2021-04-23  51739.808594  52120.792969  47714.664063  51093.652344   \n",
       "2  2021-04-24  51143.226563  51167.562500  48805.285156  50050.867188   \n",
       "3  2021-04-25  50052.832031  50506.019531  47159.484375  49004.253906   \n",
       "4  2021-04-26  49077.792969  54288.003906  48852.796875  54021.753906   \n",
       "\n",
       "      Adj Close       Volume  \n",
       "0  51762.273438  74798630778  \n",
       "1  51093.652344  86668667320  \n",
       "2  50050.867188  49014494781  \n",
       "3  49004.253906  46117114240  \n",
       "4  54021.753906  58284039825  "
      ]
     },
     "execution_count": 28,
     "metadata": {},
     "output_type": "execute_result"
    }
   ],
   "source": [
    "df.head()"
   ]
  },
  {
   "cell_type": "code",
   "execution_count": 29,
   "id": "4a9d43a3",
   "metadata": {},
   "outputs": [
    {
     "name": "stdout",
     "output_type": "stream",
     "text": [
      "<class 'pandas.core.frame.DataFrame'>\n",
      "RangeIndex: 366 entries, 0 to 365\n",
      "Data columns (total 7 columns):\n",
      " #   Column     Non-Null Count  Dtype  \n",
      "---  ------     --------------  -----  \n",
      " 0   Date       366 non-null    object \n",
      " 1   Open       366 non-null    float64\n",
      " 2   High       366 non-null    float64\n",
      " 3   Low        366 non-null    float64\n",
      " 4   Close      366 non-null    float64\n",
      " 5   Adj Close  366 non-null    float64\n",
      " 6   Volume     366 non-null    int64  \n",
      "dtypes: float64(5), int64(1), object(1)\n",
      "memory usage: 20.1+ KB\n"
     ]
    }
   ],
   "source": [
    "df.info()"
   ]
  },
  {
   "cell_type": "code",
   "execution_count": 30,
   "id": "c82cc341",
   "metadata": {},
   "outputs": [
    {
     "data": {
      "text/plain": [
       "0     2021-04-22\n",
       "1     2021-04-23\n",
       "2     2021-04-24\n",
       "3     2021-04-25\n",
       "4     2021-04-26\n",
       "         ...    \n",
       "361   2022-04-18\n",
       "362   2022-04-19\n",
       "363   2022-04-20\n",
       "364   2022-04-21\n",
       "365   2022-04-22\n",
       "Name: Date, Length: 366, dtype: datetime64[ns]"
      ]
     },
     "execution_count": 30,
     "metadata": {},
     "output_type": "execute_result"
    }
   ],
   "source": [
    "df.Date.astype('datetime64[ns]')"
   ]
  },
  {
   "cell_type": "code",
   "execution_count": 31,
   "id": "915cc86a",
   "metadata": {},
   "outputs": [
    {
     "data": {
      "text/html": [
       "<div>\n",
       "<style scoped>\n",
       "    .dataframe tbody tr th:only-of-type {\n",
       "        vertical-align: middle;\n",
       "    }\n",
       "\n",
       "    .dataframe tbody tr th {\n",
       "        vertical-align: top;\n",
       "    }\n",
       "\n",
       "    .dataframe thead th {\n",
       "        text-align: right;\n",
       "    }\n",
       "</style>\n",
       "<table border=\"1\" class=\"dataframe\">\n",
       "  <thead>\n",
       "    <tr style=\"text-align: right;\">\n",
       "      <th></th>\n",
       "      <th>Open</th>\n",
       "      <th>High</th>\n",
       "      <th>Low</th>\n",
       "      <th>Close</th>\n",
       "      <th>Adj Close</th>\n",
       "      <th>Volume</th>\n",
       "    </tr>\n",
       "  </thead>\n",
       "  <tbody>\n",
       "    <tr>\n",
       "      <th>count</th>\n",
       "      <td>366.000000</td>\n",
       "      <td>366.000000</td>\n",
       "      <td>366.000000</td>\n",
       "      <td>366.000000</td>\n",
       "      <td>366.000000</td>\n",
       "      <td>3.660000e+02</td>\n",
       "    </tr>\n",
       "    <tr>\n",
       "      <th>mean</th>\n",
       "      <td>45522.791597</td>\n",
       "      <td>46652.529633</td>\n",
       "      <td>44201.936950</td>\n",
       "      <td>45475.544282</td>\n",
       "      <td>45475.544282</td>\n",
       "      <td>3.502611e+10</td>\n",
       "    </tr>\n",
       "    <tr>\n",
       "      <th>std</th>\n",
       "      <td>8600.340060</td>\n",
       "      <td>8697.273763</td>\n",
       "      <td>8506.715530</td>\n",
       "      <td>8579.637457</td>\n",
       "      <td>8579.637457</td>\n",
       "      <td>1.404043e+10</td>\n",
       "    </tr>\n",
       "    <tr>\n",
       "      <th>min</th>\n",
       "      <td>29796.285156</td>\n",
       "      <td>31006.187500</td>\n",
       "      <td>28893.621094</td>\n",
       "      <td>29807.347656</td>\n",
       "      <td>29807.347656</td>\n",
       "      <td>1.373656e+10</td>\n",
       "    </tr>\n",
       "    <tr>\n",
       "      <th>25%</th>\n",
       "      <td>39111.136719</td>\n",
       "      <td>40091.232422</td>\n",
       "      <td>37812.997070</td>\n",
       "      <td>39113.262696</td>\n",
       "      <td>39113.262696</td>\n",
       "      <td>2.620404e+10</td>\n",
       "    </tr>\n",
       "    <tr>\n",
       "      <th>50%</th>\n",
       "      <td>43955.644532</td>\n",
       "      <td>45038.535157</td>\n",
       "      <td>42861.652344</td>\n",
       "      <td>43955.017579</td>\n",
       "      <td>43955.017579</td>\n",
       "      <td>3.255782e+10</td>\n",
       "    </tr>\n",
       "    <tr>\n",
       "      <th>75%</th>\n",
       "      <td>49991.458008</td>\n",
       "      <td>51170.421875</td>\n",
       "      <td>48614.049805</td>\n",
       "      <td>49928.602539</td>\n",
       "      <td>49928.602539</td>\n",
       "      <td>3.910701e+10</td>\n",
       "    </tr>\n",
       "    <tr>\n",
       "      <th>max</th>\n",
       "      <td>67549.734375</td>\n",
       "      <td>68789.625000</td>\n",
       "      <td>66382.062500</td>\n",
       "      <td>67566.828125</td>\n",
       "      <td>67566.828125</td>\n",
       "      <td>1.263581e+11</td>\n",
       "    </tr>\n",
       "  </tbody>\n",
       "</table>\n",
       "</div>"
      ],
      "text/plain": [
       "               Open          High           Low         Close     Adj Close  \\\n",
       "count    366.000000    366.000000    366.000000    366.000000    366.000000   \n",
       "mean   45522.791597  46652.529633  44201.936950  45475.544282  45475.544282   \n",
       "std     8600.340060   8697.273763   8506.715530   8579.637457   8579.637457   \n",
       "min    29796.285156  31006.187500  28893.621094  29807.347656  29807.347656   \n",
       "25%    39111.136719  40091.232422  37812.997070  39113.262696  39113.262696   \n",
       "50%    43955.644532  45038.535157  42861.652344  43955.017579  43955.017579   \n",
       "75%    49991.458008  51170.421875  48614.049805  49928.602539  49928.602539   \n",
       "max    67549.734375  68789.625000  66382.062500  67566.828125  67566.828125   \n",
       "\n",
       "             Volume  \n",
       "count  3.660000e+02  \n",
       "mean   3.502611e+10  \n",
       "std    1.404043e+10  \n",
       "min    1.373656e+10  \n",
       "25%    2.620404e+10  \n",
       "50%    3.255782e+10  \n",
       "75%    3.910701e+10  \n",
       "max    1.263581e+11  "
      ]
     },
     "execution_count": 31,
     "metadata": {},
     "output_type": "execute_result"
    }
   ],
   "source": [
    "df.describe()"
   ]
  },
  {
   "cell_type": "code",
   "execution_count": 32,
   "id": "b8414536",
   "metadata": {},
   "outputs": [
    {
     "data": {
      "text/plain": [
       "0"
      ]
     },
     "execution_count": 32,
     "metadata": {},
     "output_type": "execute_result"
    }
   ],
   "source": [
    "# Checking for missing values\n",
    "df.isnull().sum().sum()"
   ]
  },
  {
   "cell_type": "code",
   "execution_count": 33,
   "id": "dd55e9d5",
   "metadata": {
    "scrolled": true
   },
   "outputs": [
    {
     "data": {
      "text/html": [
       "<div>\n",
       "<style scoped>\n",
       "    .dataframe tbody tr th:only-of-type {\n",
       "        vertical-align: middle;\n",
       "    }\n",
       "\n",
       "    .dataframe tbody tr th {\n",
       "        vertical-align: top;\n",
       "    }\n",
       "\n",
       "    .dataframe thead th {\n",
       "        text-align: right;\n",
       "    }\n",
       "</style>\n",
       "<table border=\"1\" class=\"dataframe\">\n",
       "  <thead>\n",
       "    <tr style=\"text-align: right;\">\n",
       "      <th></th>\n",
       "      <th>Date</th>\n",
       "      <th>Open</th>\n",
       "      <th>High</th>\n",
       "      <th>Low</th>\n",
       "      <th>Close</th>\n",
       "      <th>Adj Close</th>\n",
       "      <th>Volume</th>\n",
       "    </tr>\n",
       "  </thead>\n",
       "  <tbody>\n",
       "    <tr>\n",
       "      <th>361</th>\n",
       "      <td>2022-04-18</td>\n",
       "      <td>39721.203125</td>\n",
       "      <td>40986.320313</td>\n",
       "      <td>38696.191406</td>\n",
       "      <td>40826.214844</td>\n",
       "      <td>40826.214844</td>\n",
       "      <td>33705182072</td>\n",
       "    </tr>\n",
       "    <tr>\n",
       "      <th>362</th>\n",
       "      <td>2022-04-19</td>\n",
       "      <td>40828.175781</td>\n",
       "      <td>41672.960938</td>\n",
       "      <td>40618.632813</td>\n",
       "      <td>41502.750000</td>\n",
       "      <td>41502.750000</td>\n",
       "      <td>25303206547</td>\n",
       "    </tr>\n",
       "    <tr>\n",
       "      <th>363</th>\n",
       "      <td>2022-04-20</td>\n",
       "      <td>41501.746094</td>\n",
       "      <td>42126.300781</td>\n",
       "      <td>40961.097656</td>\n",
       "      <td>41374.378906</td>\n",
       "      <td>41374.378906</td>\n",
       "      <td>27819532341</td>\n",
       "    </tr>\n",
       "    <tr>\n",
       "      <th>364</th>\n",
       "      <td>2022-04-21</td>\n",
       "      <td>41371.515625</td>\n",
       "      <td>42893.582031</td>\n",
       "      <td>40063.828125</td>\n",
       "      <td>40527.363281</td>\n",
       "      <td>40527.363281</td>\n",
       "      <td>35372786395</td>\n",
       "    </tr>\n",
       "    <tr>\n",
       "      <th>365</th>\n",
       "      <td>2022-04-22</td>\n",
       "      <td>40404.449219</td>\n",
       "      <td>40777.757813</td>\n",
       "      <td>40263.335938</td>\n",
       "      <td>40488.945313</td>\n",
       "      <td>40488.945313</td>\n",
       "      <td>38605385728</td>\n",
       "    </tr>\n",
       "  </tbody>\n",
       "</table>\n",
       "</div>"
      ],
      "text/plain": [
       "           Date          Open          High           Low         Close  \\\n",
       "361  2022-04-18  39721.203125  40986.320313  38696.191406  40826.214844   \n",
       "362  2022-04-19  40828.175781  41672.960938  40618.632813  41502.750000   \n",
       "363  2022-04-20  41501.746094  42126.300781  40961.097656  41374.378906   \n",
       "364  2022-04-21  41371.515625  42893.582031  40063.828125  40527.363281   \n",
       "365  2022-04-22  40404.449219  40777.757813  40263.335938  40488.945313   \n",
       "\n",
       "        Adj Close       Volume  \n",
       "361  40826.214844  33705182072  \n",
       "362  41502.750000  25303206547  \n",
       "363  41374.378906  27819532341  \n",
       "364  40527.363281  35372786395  \n",
       "365  40488.945313  38605385728  "
      ]
     },
     "execution_count": 33,
     "metadata": {},
     "output_type": "execute_result"
    }
   ],
   "source": [
    "## Checking the last date recorded\n",
    "df.tail()"
   ]
  },
  {
   "cell_type": "markdown",
   "id": "23d4252a",
   "metadata": {},
   "source": [
    "## The prizes were recorded for one years starting 22-04-2021 to 22-04-2022"
   ]
  },
  {
   "cell_type": "code",
   "execution_count": 34,
   "id": "32a15be1",
   "metadata": {},
   "outputs": [
    {
     "name": "stdout",
     "output_type": "stream",
     "text": [
      "Start date  2021-04-22\n",
      "End date  2022-04-22\n"
     ]
    }
   ],
   "source": [
    "# Printing the start date and End date of the dataset\n",
    "\n",
    "start_date=df.iloc[0][0]\n",
    "end_date=df.iloc[-1][0]\n",
    "print(\"Start date \",start_date)\n",
    "print(\"End date \",end_date)"
   ]
  },
  {
   "cell_type": "code",
   "execution_count": null,
   "id": "5c5721ca",
   "metadata": {},
   "outputs": [],
   "source": [
    "axes = plt.gca()\n",
    "\n",
    "# pass the axes object to plot function\n",
    "season.plot(kind='line',x='Date', y='Close', ax=axes,title=\"Line Graph for close,open,high and low price\");\n",
    "season.plot(kind='line',x='Date',  y='Open', ax=axes);\n",
    "season.plot(kind='line',x='Date',  y='High', ax=axes);\n",
    "season.plot(kind='line',x='Date',  y='Low', ax=axes);"
   ]
  }
 ],
 "metadata": {
  "kernelspec": {
   "display_name": "Python 3",
   "language": "python",
   "name": "python3"
  },
  "language_info": {
   "codemirror_mode": {
    "name": "ipython",
    "version": 3
   },
   "file_extension": ".py",
   "mimetype": "text/x-python",
   "name": "python",
   "nbconvert_exporter": "python",
   "pygments_lexer": "ipython3",
   "version": "3.8.8"
  }
 },
 "nbformat": 4,
 "nbformat_minor": 5
}
